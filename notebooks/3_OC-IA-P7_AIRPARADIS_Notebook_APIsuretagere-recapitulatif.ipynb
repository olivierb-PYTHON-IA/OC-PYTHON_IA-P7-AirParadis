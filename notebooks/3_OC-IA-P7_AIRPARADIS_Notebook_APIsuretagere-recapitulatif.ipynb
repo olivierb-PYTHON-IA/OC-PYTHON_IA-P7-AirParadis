{
 "cells": [
  {
   "cell_type": "markdown",
   "id": "4d107939",
   "metadata": {},
   "source": [
    "# OpenClassrooms - Ingenieur IA\n",
    "# Projet 7 - AirParadis\n",
    "# Détectez les Bad Buzz grâce au Deep Learning\n",
    "\n",
    "## Objectif du projet : \n",
    "- **Développer le prototype d’un produit IA permettant de prédire le sentiment associé à un tweet**\n",
    "\n",
    "## Trois approches :\n",
    "- **Approche 1 : 'API sur étagère' en utilisant l’API du service cognitif proposé par Microsoft Azure pour l’analyse de sentiment**\n",
    "- **Approche 2 : 'Modèle sur mesure simple' en utilisant le service Azure Machine Learning Studio**\n",
    "- **Approche 3 : 'Modèle sur mesure avancé' en utilisant le service Azure Machine Learning pour développer un modèle basé sur des réseaux de neurones profonds pour prédire le sentiment associé à un tweet**\n",
    "\n",
    "## Plan :\n",
    "- **Approche 1 : API sur étagère**\n",
    "    - Chargement des données\n",
    "    - Récupération de la clé d'authentification et du endpoint de connection à l'API Azure\n",
    "    - Authentification auprès de l'API\n",
    "    - Envoi de la requête et récupération du résultat\n",
    "    - Résultat\n",
    "- **Approche 2 : Modèle sur mesure simple**\n",
    "    - Récupération du modèle réalisé dans Azure Machine Learning\n",
    "    - Lien vers le modèle\n",
    "    - Résultat\n",
    "- **Approche 3 : Modèle sur mesure avancé**\n",
    "    - Résultat\n",
    "- **Comparaison des trois approches et conclusion**"
   ]
  },
  {
   "cell_type": "markdown",
   "id": "fa5cfffa",
   "metadata": {},
   "source": [
    "### Note explicative :\n",
    "- Ce Notebook implémente l'approche : 'API sur étagère'\n",
    "- Et présente une comparaison des trois approches : 'API sur étagère', 'Modèle sur mesure simple' et 'Modèle sur mesure avancé'\n",
    "- La comparaison se fait sur le jeu de données 'app' de 2000 Tweets spécialement créé pour cela"
   ]
  },
  {
   "cell_type": "code",
   "execution_count": 1,
   "id": "9ec69606",
   "metadata": {},
   "outputs": [],
   "source": [
    "import os\n",
    "\n",
    "import pandas as pd\n",
    "import numpy as np\n",
    "from matplotlib import pyplot as plt\n",
    "\n",
    "from sklearn.metrics import classification_report\n",
    "from sklearn.metrics import confusion_matrix\n",
    "from sklearn.metrics import ConfusionMatrixDisplay\n",
    "from sklearn.metrics import accuracy_score\n",
    "\n",
    "from azure.ai.textanalytics import TextAnalyticsClient\n",
    "from azure.core.credentials import AzureKeyCredential\n",
    "from azureml.core import Workspace\n",
    "import warnings\n",
    "warnings.filterwarnings('ignore')"
   ]
  },
  {
   "cell_type": "markdown",
   "id": "b12baaec",
   "metadata": {},
   "source": [
    "# Approche 1 : API sur étagère"
   ]
  },
  {
   "cell_type": "markdown",
   "id": "f5b3420a",
   "metadata": {},
   "source": [
    "## Chargement des données"
   ]
  },
  {
   "cell_type": "code",
   "execution_count": 2,
   "id": "d59de70b",
   "metadata": {},
   "outputs": [],
   "source": [
    "df_app = pd.read_csv('airparadis_app_dataset.csv')"
   ]
  },
  {
   "cell_type": "code",
   "execution_count": 3,
   "id": "9ff8a1b1",
   "metadata": {},
   "outputs": [
    {
     "data": {
      "text/plain": [
       "(2000, 3)"
      ]
     },
     "execution_count": 3,
     "metadata": {},
     "output_type": "execute_result"
    }
   ],
   "source": [
    "df_app.shape"
   ]
  },
  {
   "cell_type": "code",
   "execution_count": 4,
   "id": "99c673a0",
   "metadata": {},
   "outputs": [
    {
     "data": {
      "text/html": [
       "<div>\n",
       "<style scoped>\n",
       "    .dataframe tbody tr th:only-of-type {\n",
       "        vertical-align: middle;\n",
       "    }\n",
       "\n",
       "    .dataframe tbody tr th {\n",
       "        vertical-align: top;\n",
       "    }\n",
       "\n",
       "    .dataframe thead th {\n",
       "        text-align: right;\n",
       "    }\n",
       "</style>\n",
       "<table border=\"1\" class=\"dataframe\">\n",
       "  <thead>\n",
       "    <tr style=\"text-align: right;\">\n",
       "      <th></th>\n",
       "      <th>SENTIMENT</th>\n",
       "      <th>TWEET</th>\n",
       "      <th>TWEET_PREPROCESSED</th>\n",
       "    </tr>\n",
       "  </thead>\n",
       "  <tbody>\n",
       "    <tr>\n",
       "      <th>0</th>\n",
       "      <td>1</td>\n",
       "      <td>Pictures!!</td>\n",
       "      <td>Pictures!!</td>\n",
       "    </tr>\n",
       "    <tr>\n",
       "      <th>1</th>\n",
       "      <td>1</td>\n",
       "      <td>just watched One Tree Hill episode 22 season 6...</td>\n",
       "      <td>just watched One Tree Hill episode season ... ...</td>\n",
       "    </tr>\n",
       "    <tr>\n",
       "      <th>2</th>\n",
       "      <td>1</td>\n",
       "      <td>and so the micro blogging begins!!</td>\n",
       "      <td>and so the micro blogging begins!!</td>\n",
       "    </tr>\n",
       "    <tr>\n",
       "      <th>3</th>\n",
       "      <td>1</td>\n",
       "      <td>awesooome. i found me some chickeeen waaangs t...</td>\n",
       "      <td>awesooome. i found me some chickeeen waaangs t...</td>\n",
       "    </tr>\n",
       "    <tr>\n",
       "      <th>4</th>\n",
       "      <td>0</td>\n",
       "      <td>Please don't go.</td>\n",
       "      <td>Please don't go.</td>\n",
       "    </tr>\n",
       "    <tr>\n",
       "      <th>...</th>\n",
       "      <td>...</td>\n",
       "      <td>...</td>\n",
       "      <td>...</td>\n",
       "    </tr>\n",
       "    <tr>\n",
       "      <th>1995</th>\n",
       "      <td>1</td>\n",
       "      <td>Rain wont stop.... bring on the munchies and t...</td>\n",
       "      <td>Rain wont stop.... bring on the munchies and t...</td>\n",
       "    </tr>\n",
       "    <tr>\n",
       "      <th>1996</th>\n",
       "      <td>1</td>\n",
       "      <td>@citylivinggirl Thank you</td>\n",
       "      <td>Thank you</td>\n",
       "    </tr>\n",
       "    <tr>\n",
       "      <th>1997</th>\n",
       "      <td>1</td>\n",
       "      <td>tonight was fun</td>\n",
       "      <td>tonight was fun</td>\n",
       "    </tr>\n",
       "    <tr>\n",
       "      <th>1998</th>\n",
       "      <td>0</td>\n",
       "      <td>Back from #phish. The only downer was leaving ...</td>\n",
       "      <td>Back from . The only downer was leaving and se...</td>\n",
       "    </tr>\n",
       "    <tr>\n",
       "      <th>1999</th>\n",
       "      <td>0</td>\n",
       "      <td>Good afternoon!!!! Twitteralley!!! Working har...</td>\n",
       "      <td>Good afternoon!!!! Twitteralley!!! Working har...</td>\n",
       "    </tr>\n",
       "  </tbody>\n",
       "</table>\n",
       "<p>2000 rows × 3 columns</p>\n",
       "</div>"
      ],
      "text/plain": [
       "      SENTIMENT                                              TWEET  \\\n",
       "0             1                                        Pictures!!    \n",
       "1             1  just watched One Tree Hill episode 22 season 6...   \n",
       "2             1                and so the micro blogging begins!!    \n",
       "3             1  awesooome. i found me some chickeeen waaangs t...   \n",
       "4             0                               Please don't go.       \n",
       "...         ...                                                ...   \n",
       "1995          1  Rain wont stop.... bring on the munchies and t...   \n",
       "1996          1                         @citylivinggirl Thank you    \n",
       "1997          1                                   tonight was fun    \n",
       "1998          0  Back from #phish. The only downer was leaving ...   \n",
       "1999          0  Good afternoon!!!! Twitteralley!!! Working har...   \n",
       "\n",
       "                                     TWEET_PREPROCESSED  \n",
       "0                                            Pictures!!  \n",
       "1     just watched One Tree Hill episode season ... ...  \n",
       "2                    and so the micro blogging begins!!  \n",
       "3     awesooome. i found me some chickeeen waaangs t...  \n",
       "4                                      Please don't go.  \n",
       "...                                                 ...  \n",
       "1995  Rain wont stop.... bring on the munchies and t...  \n",
       "1996                                          Thank you  \n",
       "1997                                    tonight was fun  \n",
       "1998  Back from . The only downer was leaving and se...  \n",
       "1999  Good afternoon!!!! Twitteralley!!! Working har...  \n",
       "\n",
       "[2000 rows x 3 columns]"
      ]
     },
     "execution_count": 4,
     "metadata": {},
     "output_type": "execute_result"
    }
   ],
   "source": [
    "df_app"
   ]
  },
  {
   "cell_type": "code",
   "execution_count": 5,
   "id": "c9285939",
   "metadata": {},
   "outputs": [],
   "source": [
    "X_app = df_app[\"TWEET_PREPROCESSED\"].values\n",
    "y_app = df_app[\"SENTIMENT\"].values"
   ]
  },
  {
   "cell_type": "code",
   "execution_count": 6,
   "id": "61caf8cd",
   "metadata": {},
   "outputs": [
    {
     "name": "stdout",
     "output_type": "stream",
     "text": [
      "X_validation Shape: (2000,)\n",
      "y_validation Shape: (2000,)\n"
     ]
    }
   ],
   "source": [
    "print(\"X_validation Shape:\", X_app.shape)\n",
    "print(\"y_validation Shape:\", y_app.shape)"
   ]
  },
  {
   "cell_type": "code",
   "execution_count": 7,
   "id": "face594f",
   "metadata": {},
   "outputs": [
    {
     "data": {
      "text/plain": [
       "array(['Pictures!!',\n",
       "       'just watched One Tree Hill episode season ... never cried this much since keith died!!!!!! OTH is epic for sure!!!!!! Xxx',\n",
       "       'and so the micro blogging begins!!', ..., 'tonight was fun',\n",
       "       'Back from . The only downer was leaving and seeing hundreds and hundreds of people sucking down balloons.',\n",
       "       \"Good afternoon!!!! Twitteralley!!! Working hard today. Hadn't had enough time to visit the past days.\"],\n",
       "      dtype=object)"
      ]
     },
     "execution_count": 7,
     "metadata": {},
     "output_type": "execute_result"
    }
   ],
   "source": [
    "X_app"
   ]
  },
  {
   "cell_type": "code",
   "execution_count": 8,
   "id": "a422ec4a",
   "metadata": {},
   "outputs": [
    {
     "data": {
      "text/plain": [
       "array([1, 1, 1, ..., 1, 0, 0], dtype=int64)"
      ]
     },
     "execution_count": 8,
     "metadata": {},
     "output_type": "execute_result"
    }
   ],
   "source": [
    "y_app"
   ]
  },
  {
   "cell_type": "markdown",
   "id": "b4f004f9",
   "metadata": {},
   "source": [
    "## Récupération de la clé d'authentification et du endpoint de connection à l'API Azure"
   ]
  },
  {
   "cell_type": "markdown",
   "id": "0faedfcf",
   "metadata": {},
   "source": [
    "##### Remarque :\n",
    "- Pour des raisons de sécurité, afin qu'ils n'apparaissent pas en clair dans le code, la clé et le endpoint de l'API sont enregistrés dans les variables d'environnement"
   ]
  },
  {
   "cell_type": "code",
   "execution_count": 9,
   "id": "3597c02d",
   "metadata": {},
   "outputs": [],
   "source": [
    "key = os.environ['KEY_AIRPARADIS']\n",
    "endpoint = os.environ['ENDPOINT_AIRPARADIS']"
   ]
  },
  {
   "cell_type": "markdown",
   "id": "f400da80",
   "metadata": {},
   "source": [
    "## Authentification auprès de l'API"
   ]
  },
  {
   "cell_type": "code",
   "execution_count": 10,
   "id": "f39233d8",
   "metadata": {},
   "outputs": [],
   "source": [
    "def authenticate_client():\n",
    "    ta_credential = AzureKeyCredential(key)\n",
    "    text_analytics_client = TextAnalyticsClient(\n",
    "            endpoint=endpoint,\n",
    "            credential=ta_credential)\n",
    "    return text_analytics_client"
   ]
  },
  {
   "cell_type": "code",
   "execution_count": 11,
   "id": "a7ae5faa",
   "metadata": {},
   "outputs": [],
   "source": [
    "client = authenticate_client()"
   ]
  },
  {
   "cell_type": "markdown",
   "id": "8e7ee329",
   "metadata": {},
   "source": [
    "## Envoi de la requête et récupération du résultat"
   ]
  },
  {
   "cell_type": "code",
   "execution_count": 12,
   "id": "aa2bca59",
   "metadata": {},
   "outputs": [],
   "source": [
    "def sentiment_analysis(client, tweet):\n",
    "    response = client.analyze_sentiment(documents=tweet)[0]\n",
    "    sentiment = 0 if response.confidence_scores.negative > 0.5 else 1\n",
    "    return sentiment"
   ]
  },
  {
   "cell_type": "code",
   "execution_count": 13,
   "id": "c5ae42e8",
   "metadata": {},
   "outputs": [],
   "source": [
    "y_pred_API = []\n",
    "for tweet in X_app:\n",
    "    result = sentiment_analysis(client, [tweet])\n",
    "    y_pred_API.append(result)"
   ]
  },
  {
   "cell_type": "markdown",
   "id": "fd3ea191",
   "metadata": {},
   "source": [
    "## Résultat"
   ]
  },
  {
   "cell_type": "markdown",
   "id": "2e958de9",
   "metadata": {},
   "source": [
    "#### Accuracy"
   ]
  },
  {
   "cell_type": "code",
   "execution_count": 16,
   "id": "6fd6ed14",
   "metadata": {},
   "outputs": [],
   "source": [
    "accuracy_modele_etagere = accuracy_score(y_app, y_pred_API)"
   ]
  },
  {
   "cell_type": "code",
   "execution_count": 17,
   "id": "64eaec01",
   "metadata": {},
   "outputs": [
    {
     "name": "stdout",
     "output_type": "stream",
     "text": [
      "Accuracy score 'Modèle API sur étagère'= 0.683\n"
     ]
    }
   ],
   "source": [
    "print(f\"Accuracy score 'Modèle API sur étagère'= {accuracy_modele_etagere:.3f}\")"
   ]
  },
  {
   "cell_type": "markdown",
   "id": "fe9454ea",
   "metadata": {},
   "source": [
    "#### Matrice de confusion"
   ]
  },
  {
   "cell_type": "code",
   "execution_count": 18,
   "id": "7b8d47e1",
   "metadata": {},
   "outputs": [
    {
     "data": {
      "text/plain": [
       "<sklearn.metrics._plot.confusion_matrix.ConfusionMatrixDisplay at 0x18d55e7a760>"
      ]
     },
     "execution_count": 18,
     "metadata": {},
     "output_type": "execute_result"
    },
    {
     "data": {
      "image/png": "[encoded data removed]",
      "text/plain": [
       "<Figure size 432x288 with 2 Axes>"
      ]
     },
     "metadata": {
      "needs_background": "light"
     },
     "output_type": "display_data"
    }
   ],
   "source": [
    "cm = confusion_matrix(y_app, y_pred_API)\n",
    "cmd = ConfusionMatrixDisplay(cm)\n",
    "cmd.plot()"
   ]
  },
  {
   "cell_type": "markdown",
   "id": "e3d0f1b0",
   "metadata": {},
   "source": [
    "#### Rapport de classification"
   ]
  },
  {
   "cell_type": "code",
   "execution_count": 19,
   "id": "a8e9c958",
   "metadata": {},
   "outputs": [
    {
     "name": "stdout",
     "output_type": "stream",
     "text": [
      "              precision    recall  f1-score   support\n",
      "\n",
      "           0       0.79      0.50      0.61      1000\n",
      "           1       0.63      0.86      0.73      1000\n",
      "\n",
      "    accuracy                           0.68      2000\n",
      "   macro avg       0.71      0.68      0.67      2000\n",
      "weighted avg       0.71      0.68      0.67      2000\n",
      "\n"
     ]
    }
   ],
   "source": [
    "print(classification_report(y_app, y_pred_API))"
   ]
  },
  {
   "cell_type": "markdown",
   "id": "578cbc57",
   "metadata": {},
   "source": [
    "# Approche 2 : Modèle sur mesure simple"
   ]
  },
  {
   "cell_type": "markdown",
   "id": "5c0c74d5",
   "metadata": {},
   "source": [
    "## Récupération du modèle réalisé dans Azure Machine Learning"
   ]
  },
  {
   "cell_type": "code",
   "execution_count": 20,
   "id": "016123e5",
   "metadata": {},
   "outputs": [],
   "source": [
    "azure_subscription_id = os.environ['AZURE_SUBSCRIPTION_ID']"
   ]
  },
  {
   "cell_type": "code",
   "execution_count": 21,
   "id": "a86c3de1",
   "metadata": {},
   "outputs": [
    {
     "name": "stderr",
     "output_type": "stream",
     "text": [
      "Warning: Falling back to use azure cli login credentials.\n",
      "If you run your code in unattended mode, i.e., where you can't give a user input, then we recommend to use ServicePrincipalAuthentication or MsiAuthentication.\n",
      "Please refer to aka.ms/aml-notebook-auth for different authentication mechanisms in azureml-sdk.\n"
     ]
    }
   ],
   "source": [
    "ws = Workspace(subscription_id=azure_subscription_id,\n",
    "              resource_group=\"OC-IA-P7\",\n",
    "              workspace_name=\"ws-OC-P7\")"
   ]
  },
  {
   "cell_type": "code",
   "execution_count": 22,
   "id": "08a599d6",
   "metadata": {},
   "outputs": [],
   "source": [
    "run_id = '237b8921-2a8f-46c9-9922-8ada5d9834f8'\n",
    "exp = ws.experiments['OC-IA-P7_Modele-simple_EXP']\n",
    "run = next(run for run in exp.get_runs() if run.id == run_id)"
   ]
  },
  {
   "cell_type": "markdown",
   "id": "89be7596",
   "metadata": {},
   "source": [
    "### Lien vers le modèle"
   ]
  },
  {
   "cell_type": "code",
   "execution_count": 23,
   "id": "00407fa7",
   "metadata": {},
   "outputs": [
    {
     "data": {
      "text/html": [
       "<table style=\"width:100%\"><tr><th>Experiment</th><th>Id</th><th>Type</th><th>Status</th><th>Details Page</th><th>Docs Page</th></tr><tr><td>OC-IA-P7_Modele-simple_EXP</td><td>237b8921-2a8f-46c9-9922-8ada5d9834f8</td><td>azureml.PipelineRun</td><td>Completed</td><td><a href=\"https://ml.azure.com/runs/237b8921-2a8f-46c9-9922-8ada5d9834f8?wsid=/subscriptions/dc0050bb-8e50-4b60-8aac-034371ba1a2a/resourcegroups/OC-IA-P7/workspaces/ws-OC-P7&amp;tid=894ad120-c276-4dfa-b218-d82b3fece6a7\" target=\"_blank\" rel=\"noopener\">Link to Azure Machine Learning studio</a></td><td><a href=\"https://docs.microsoft.com/en-us/python/api/overview/azure/ml/intro?view=azure-ml-py\" target=\"_blank\" rel=\"noopener\">Link to Documentation</a></td></tr></table>"
      ],
      "text/plain": [
       "Run(Experiment: OC-IA-P7_Modele-simple_EXP,\n",
       "Id: 237b8921-2a8f-46c9-9922-8ada5d9834f8,\n",
       "Type: azureml.PipelineRun,\n",
       "Status: Completed)"
      ]
     },
     "execution_count": 23,
     "metadata": {},
     "output_type": "execute_result"
    }
   ],
   "source": [
    "run"
   ]
  },
  {
   "cell_type": "markdown",
   "id": "7a35543e",
   "metadata": {},
   "source": [
    "### Résultat"
   ]
  },
  {
   "cell_type": "code",
   "execution_count": 24,
   "id": "0d4ad8c0",
   "metadata": {},
   "outputs": [],
   "source": [
    "accuracy_modele_simple = 0.755"
   ]
  },
  {
   "cell_type": "code",
   "execution_count": 25,
   "id": "ea9e1979",
   "metadata": {},
   "outputs": [
    {
     "name": "stdout",
     "output_type": "stream",
     "text": [
      "Accuracy score 'Modèle sur mesure simple' = 0.755\n"
     ]
    }
   ],
   "source": [
    "print(f\"Accuracy score 'Modèle sur mesure simple' = {accuracy_modele_simple:.3f}\")"
   ]
  },
  {
   "cell_type": "markdown",
   "id": "d18ceaf1",
   "metadata": {},
   "source": [
    "# Approche 3 : Modèle sur mesure avancé"
   ]
  },
  {
   "cell_type": "markdown",
   "id": "66af3c3a",
   "metadata": {},
   "source": [
    "### Résultat"
   ]
  },
  {
   "cell_type": "code",
   "execution_count": 26,
   "id": "8425727e",
   "metadata": {},
   "outputs": [],
   "source": [
    "accuracy_modele_avance = 0.822"
   ]
  },
  {
   "cell_type": "code",
   "execution_count": 27,
   "id": "4430cfa7",
   "metadata": {},
   "outputs": [
    {
     "name": "stdout",
     "output_type": "stream",
     "text": [
      "Accuracy score 'Modèle avancé' = 0.822\n"
     ]
    }
   ],
   "source": [
    "print(f\"Accuracy score 'Modèle avancé' = {accuracy_modele_avance:.3f}\")"
   ]
  },
  {
   "cell_type": "markdown",
   "id": "d4a9189b",
   "metadata": {},
   "source": [
    "# Comparaison des trois approches et conclusion"
   ]
  },
  {
   "cell_type": "code",
   "execution_count": 28,
   "id": "c9754d5a",
   "metadata": {},
   "outputs": [],
   "source": [
    "app = ['API_sur_étagère', 'Modèle_sur_mesure_simple', 'Modèle_sur_mesure_avancé']\n",
    "accuracy = [accuracy_modele_etagere, accuracy_modele_simple, accuracy_modele_avance]\n",
    "x=[0,1,2]"
   ]
  },
  {
   "cell_type": "code",
   "execution_count": 31,
   "id": "89273e4e",
   "metadata": {},
   "outputs": [
    {
     "data": {
      "image/png": "[encoded data removed]",
      "text/plain": [
       "<Figure size 720x432 with 1 Axes>"
      ]
     },
     "metadata": {
      "needs_background": "light"
     },
     "output_type": "display_data"
    }
   ],
   "source": [
    "plt.figure(figsize=(10,6))\n",
    "plt.bar(x, accuracy, 0.6, color='g')\n",
    "plt.title(\"Score d'Accuracy pour les 3 approches\", fontsize=20)\n",
    "plt.xticks(range(len(app)), app, size='xx-large', rotation=45)\n",
    "plt.ylabel(\"Accuracy\", size='xx-large')\n",
    "plt.yticks(size='xx-large')\n",
    "plt.ylim(0.5, 0.9)\n",
    "plt.show()"
   ]
  },
  {
   "cell_type": "markdown",
   "id": "1f5d09de",
   "metadata": {},
   "source": [
    "### Conclusion :\n",
    "- Le modèle donnant la meilleure Accuracy est le modèle sur mesure avancé de Deep Learning (GRU), suivi par le modèle sur mesure simple puis le modèle API sur étagère\n",
    "- On remarque qu’il y a un lien entre le niveau de complexité du modèle et de sa mise en place et le résultat obtenu : plus le modèle est ‘avancé’, meilleur est le résultat."
   ]
  }
 ],
 "metadata": {
  "kernelspec": {
   "display_name": "Python 3",
   "language": "python",
   "name": "python3"
  },
  "language_info": {
   "codemirror_mode": {
    "name": "ipython",
    "version": 3
   },
   "file_extension": ".py",
   "mimetype": "text/x-python",
   "name": "python",
   "nbconvert_exporter": "python",
   "pygments_lexer": "ipython3",
   "version": "3.8.8"
  }
 },
 "nbformat": 4,
 "nbformat_minor": 5
}
